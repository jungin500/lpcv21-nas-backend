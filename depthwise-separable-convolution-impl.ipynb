{
 "cells": [
  {
   "cell_type": "code",
   "execution_count": 1,
   "id": "d207b8e0",
   "metadata": {},
   "outputs": [],
   "source": [
    "import torch\n",
    "from torch import nn\n",
    "from torchinfo import summary\n",
    "\n",
    "class DwConv2d(nn.Module):\n",
    "    def __init__(self, in_channels, out_channels, kernel_size=3):\n",
    "        super().__init__()\n",
    "        self.depthwise = nn.Conv2d(\n",
    "            in_channels=in_channels, out_channels=in_channels, groups=in_channels,\n",
    "            kernel_size=kernel_size, padding=kernel_size // 2, bias=False\n",
    "        )\n",
    "        self.pointwise = nn.Conv2d(\n",
    "            in_channels=in_channels, out_channels=out_channels,\n",
    "            kernel_size=1, bias=False\n",
    "        )\n",
    "                 \n",
    "    def forward(self, x):\n",
    "        x = self.depthwise(x)\n",
    "        x = self.pointwise(x)\n",
    "        return x\n",
    "\n",
    "normalconv = nn.Sequential(\n",
    "    nn.Conv2d(16, 64, 3, padding=3 // 2, bias=False)\n",
    ")\n",
    "dwconv = DwConv2d(16, 64)"
   ]
  },
  {
   "cell_type": "code",
   "execution_count": 2,
   "id": "80fad937",
   "metadata": {},
   "outputs": [
    {
     "data": {
      "text/plain": [
       "==========================================================================================\n",
       "Layer (type:depth-idx)                   Output Shape              Param #\n",
       "==========================================================================================\n",
       "Sequential                               --                        --\n",
       "├─Conv2d: 1-1                            [1, 64, 4, 4]             9,216\n",
       "==========================================================================================\n",
       "Total params: 9,216\n",
       "Trainable params: 9,216\n",
       "Non-trainable params: 0\n",
       "Total mult-adds (M): 0.15\n",
       "==========================================================================================\n",
       "Input size (MB): 0.00\n",
       "Forward/backward pass size (MB): 0.01\n",
       "Params size (MB): 0.04\n",
       "Estimated Total Size (MB): 0.05\n",
       "=========================================================================================="
      ]
     },
     "execution_count": 2,
     "metadata": {},
     "output_type": "execute_result"
    }
   ],
   "source": [
    "summary(normalconv, (1, 16, 4, 4))"
   ]
  },
  {
   "cell_type": "code",
   "execution_count": 3,
   "id": "28294779",
   "metadata": {},
   "outputs": [
    {
     "data": {
      "text/plain": [
       "==========================================================================================\n",
       "Layer (type:depth-idx)                   Output Shape              Param #\n",
       "==========================================================================================\n",
       "DwConv2d                                 --                        --\n",
       "├─Conv2d: 1-1                            [1, 16, 4, 4]             144\n",
       "├─Conv2d: 1-2                            [1, 64, 4, 4]             1,024\n",
       "==========================================================================================\n",
       "Total params: 1,168\n",
       "Trainable params: 1,168\n",
       "Non-trainable params: 0\n",
       "Total mult-adds (M): 0.02\n",
       "==========================================================================================\n",
       "Input size (MB): 0.00\n",
       "Forward/backward pass size (MB): 0.01\n",
       "Params size (MB): 0.00\n",
       "Estimated Total Size (MB): 0.02\n",
       "=========================================================================================="
      ]
     },
     "execution_count": 3,
     "metadata": {},
     "output_type": "execute_result"
    }
   ],
   "source": [
    "summary(dwconv, (1, 16, 4, 4))"
   ]
  }
 ],
 "metadata": {
  "kernelspec": {
   "display_name": "Python 3",
   "language": "python",
   "name": "python3"
  },
  "language_info": {
   "codemirror_mode": {
    "name": "ipython",
    "version": 3
   },
   "file_extension": ".py",
   "mimetype": "text/x-python",
   "name": "python",
   "nbconvert_exporter": "python",
   "pygments_lexer": "ipython3",
   "version": "3.7.10"
  }
 },
 "nbformat": 4,
 "nbformat_minor": 5
}
