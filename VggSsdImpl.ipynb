{
 "cells": [
  {
   "cell_type": "code",
   "execution_count": 1,
   "id": "ea37ca87",
   "metadata": {},
   "outputs": [],
   "source": [
    "import torch\n",
    "import torchvision"
   ]
  },
  {
   "cell_type": "code",
   "execution_count": 2,
   "id": "54fedbf9",
   "metadata": {},
   "outputs": [],
   "source": [
    "from torchinfo import summary\n",
    "model = torchvision.models.vgg16(pretrained=True)"
   ]
  },
  {
   "cell_type": "code",
   "execution_count": 3,
   "id": "0d0765b1",
   "metadata": {
    "scrolled": false
   },
   "outputs": [
    {
     "name": "stdout",
     "output_type": "stream",
     "text": [
      "Based on 3*224*224 Input\n"
     ]
    },
    {
     "name": "stderr",
     "output_type": "stream",
     "text": [
      "/home/jungin500/anaconda3/envs/pytorch/lib/python3.7/site-packages/torch/nn/functional.py:718: UserWarning: Named tensors and all their associated APIs are an experimental feature and subject to change. Please do not use them for anything important until they are released as stable. (Triggered internally at  /opt/conda/conda-bld/pytorch_1623448265233/work/c10/core/TensorImpl.h:1156.)\n",
      "  return torch.max_pool2d(input, kernel_size, stride, padding, dilation, ceil_mode)\n"
     ]
    },
    {
     "data": {
      "text/plain": [
       "==========================================================================================\n",
       "Layer (type:depth-idx)                   Output Shape              Param #\n",
       "==========================================================================================\n",
       "VGG                                      --                        --\n",
       "├─Sequential: 1-1                        [1, 512, 7, 7]            --\n",
       "│    └─Conv2d: 2-1                       [1, 64, 224, 224]         1,792\n",
       "│    └─ReLU: 2-2                         [1, 64, 224, 224]         --\n",
       "│    └─Conv2d: 2-3                       [1, 64, 224, 224]         36,928\n",
       "│    └─ReLU: 2-4                         [1, 64, 224, 224]         --\n",
       "│    └─MaxPool2d: 2-5                    [1, 64, 112, 112]         --\n",
       "│    └─Conv2d: 2-6                       [1, 128, 112, 112]        73,856\n",
       "│    └─ReLU: 2-7                         [1, 128, 112, 112]        --\n",
       "│    └─Conv2d: 2-8                       [1, 128, 112, 112]        147,584\n",
       "│    └─ReLU: 2-9                         [1, 128, 112, 112]        --\n",
       "│    └─MaxPool2d: 2-10                   [1, 128, 56, 56]          --\n",
       "│    └─Conv2d: 2-11                      [1, 256, 56, 56]          295,168\n",
       "│    └─ReLU: 2-12                        [1, 256, 56, 56]          --\n",
       "│    └─Conv2d: 2-13                      [1, 256, 56, 56]          590,080\n",
       "│    └─ReLU: 2-14                        [1, 256, 56, 56]          --\n",
       "│    └─Conv2d: 2-15                      [1, 256, 56, 56]          590,080\n",
       "│    └─ReLU: 2-16                        [1, 256, 56, 56]          --\n",
       "│    └─MaxPool2d: 2-17                   [1, 256, 28, 28]          --\n",
       "│    └─Conv2d: 2-18                      [1, 512, 28, 28]          1,180,160\n",
       "│    └─ReLU: 2-19                        [1, 512, 28, 28]          --\n",
       "│    └─Conv2d: 2-20                      [1, 512, 28, 28]          2,359,808\n",
       "│    └─ReLU: 2-21                        [1, 512, 28, 28]          --\n",
       "│    └─Conv2d: 2-22                      [1, 512, 28, 28]          2,359,808\n",
       "│    └─ReLU: 2-23                        [1, 512, 28, 28]          --\n",
       "│    └─MaxPool2d: 2-24                   [1, 512, 14, 14]          --\n",
       "│    └─Conv2d: 2-25                      [1, 512, 14, 14]          2,359,808\n",
       "│    └─ReLU: 2-26                        [1, 512, 14, 14]          --\n",
       "│    └─Conv2d: 2-27                      [1, 512, 14, 14]          2,359,808\n",
       "│    └─ReLU: 2-28                        [1, 512, 14, 14]          --\n",
       "│    └─Conv2d: 2-29                      [1, 512, 14, 14]          2,359,808\n",
       "│    └─ReLU: 2-30                        [1, 512, 14, 14]          --\n",
       "│    └─MaxPool2d: 2-31                   [1, 512, 7, 7]            --\n",
       "├─AdaptiveAvgPool2d: 1-2                 [1, 512, 7, 7]            --\n",
       "├─Sequential: 1-3                        [1, 1000]                 --\n",
       "│    └─Linear: 2-32                      [1, 4096]                 102,764,544\n",
       "│    └─ReLU: 2-33                        [1, 4096]                 --\n",
       "│    └─Dropout: 2-34                     [1, 4096]                 --\n",
       "│    └─Linear: 2-35                      [1, 4096]                 16,781,312\n",
       "│    └─ReLU: 2-36                        [1, 4096]                 --\n",
       "│    └─Dropout: 2-37                     [1, 4096]                 --\n",
       "│    └─Linear: 2-38                      [1, 1000]                 4,097,000\n",
       "==========================================================================================\n",
       "Total params: 138,357,544\n",
       "Trainable params: 138,357,544\n",
       "Non-trainable params: 0\n",
       "Total mult-adds (G): 15.48\n",
       "==========================================================================================\n",
       "Input size (MB): 0.60\n",
       "Forward/backward pass size (MB): 108.45\n",
       "Params size (MB): 553.43\n",
       "Estimated Total Size (MB): 662.49\n",
       "=========================================================================================="
      ]
     },
     "execution_count": 3,
     "metadata": {},
     "output_type": "execute_result"
    }
   ],
   "source": [
    "print(\"Based on 3*224*224 Input\")\n",
    "summary(model, (1, 3, 224, 224))"
   ]
  },
  {
   "cell_type": "code",
   "execution_count": 4,
   "id": "340715c5",
   "metadata": {
    "scrolled": false
   },
   "outputs": [
    {
     "name": "stdout",
     "output_type": "stream",
     "text": [
      "Based on 3x300x300 input\n"
     ]
    },
    {
     "data": {
      "text/plain": [
       "==========================================================================================\n",
       "Layer (type:depth-idx)                   Output Shape              Param #\n",
       "==========================================================================================\n",
       "VGG                                      --                        --\n",
       "├─Sequential: 1-1                        [1, 512, 9, 9]            --\n",
       "│    └─Conv2d: 2-1                       [1, 64, 300, 300]         1,792\n",
       "│    └─ReLU: 2-2                         [1, 64, 300, 300]         --\n",
       "│    └─Conv2d: 2-3                       [1, 64, 300, 300]         36,928\n",
       "│    └─ReLU: 2-4                         [1, 64, 300, 300]         --\n",
       "│    └─MaxPool2d: 2-5                    [1, 64, 150, 150]         --\n",
       "│    └─Conv2d: 2-6                       [1, 128, 150, 150]        73,856\n",
       "│    └─ReLU: 2-7                         [1, 128, 150, 150]        --\n",
       "│    └─Conv2d: 2-8                       [1, 128, 150, 150]        147,584\n",
       "│    └─ReLU: 2-9                         [1, 128, 150, 150]        --\n",
       "│    └─MaxPool2d: 2-10                   [1, 128, 75, 75]          --\n",
       "│    └─Conv2d: 2-11                      [1, 256, 75, 75]          295,168\n",
       "│    └─ReLU: 2-12                        [1, 256, 75, 75]          --\n",
       "│    └─Conv2d: 2-13                      [1, 256, 75, 75]          590,080\n",
       "│    └─ReLU: 2-14                        [1, 256, 75, 75]          --\n",
       "│    └─Conv2d: 2-15                      [1, 256, 75, 75]          590,080\n",
       "│    └─ReLU: 2-16                        [1, 256, 75, 75]          --\n",
       "│    └─MaxPool2d: 2-17                   [1, 256, 37, 37]          --\n",
       "│    └─Conv2d: 2-18                      [1, 512, 37, 37]          1,180,160\n",
       "│    └─ReLU: 2-19                        [1, 512, 37, 37]          --\n",
       "│    └─Conv2d: 2-20                      [1, 512, 37, 37]          2,359,808\n",
       "│    └─ReLU: 2-21                        [1, 512, 37, 37]          --\n",
       "│    └─Conv2d: 2-22                      [1, 512, 37, 37]          2,359,808\n",
       "│    └─ReLU: 2-23                        [1, 512, 37, 37]          --\n",
       "│    └─MaxPool2d: 2-24                   [1, 512, 18, 18]          --\n",
       "│    └─Conv2d: 2-25                      [1, 512, 18, 18]          2,359,808\n",
       "│    └─ReLU: 2-26                        [1, 512, 18, 18]          --\n",
       "│    └─Conv2d: 2-27                      [1, 512, 18, 18]          2,359,808\n",
       "│    └─ReLU: 2-28                        [1, 512, 18, 18]          --\n",
       "│    └─Conv2d: 2-29                      [1, 512, 18, 18]          2,359,808\n",
       "│    └─ReLU: 2-30                        [1, 512, 18, 18]          --\n",
       "│    └─MaxPool2d: 2-31                   [1, 512, 9, 9]            --\n",
       "├─AdaptiveAvgPool2d: 1-2                 [1, 512, 7, 7]            --\n",
       "├─Sequential: 1-3                        [1, 1000]                 --\n",
       "│    └─Linear: 2-32                      [1, 4096]                 102,764,544\n",
       "│    └─ReLU: 2-33                        [1, 4096]                 --\n",
       "│    └─Dropout: 2-34                     [1, 4096]                 --\n",
       "│    └─Linear: 2-35                      [1, 4096]                 16,781,312\n",
       "│    └─ReLU: 2-36                        [1, 4096]                 --\n",
       "│    └─Dropout: 2-37                     [1, 4096]                 --\n",
       "│    └─Linear: 2-38                      [1, 1000]                 4,097,000\n",
       "==========================================================================================\n",
       "Total params: 138,357,544\n",
       "Trainable params: 138,357,544\n",
       "Non-trainable params: 0\n",
       "Total mult-adds (G): 27.26\n",
       "==========================================================================================\n",
       "Input size (MB): 1.08\n",
       "Forward/backward pass size (MB): 193.68\n",
       "Params size (MB): 553.43\n",
       "Estimated Total Size (MB): 748.19\n",
       "=========================================================================================="
      ]
     },
     "execution_count": 4,
     "metadata": {},
     "output_type": "execute_result"
    }
   ],
   "source": [
    "print(\"Based on 3x300x300 input\")\n",
    "summary(model, (1, 3, 300, 300))"
   ]
  },
  {
   "cell_type": "code",
   "execution_count": 5,
   "id": "34edd608",
   "metadata": {
    "scrolled": false
   },
   "outputs": [
    {
     "name": "stdout",
     "output_type": "stream",
     "text": [
      "Based on VGG-16 SSD-300\n"
     ]
    },
    {
     "data": {
      "text/plain": [
       "==========================================================================================\n",
       "Layer (type:depth-idx)                   Output Shape              Param #\n",
       "==========================================================================================\n",
       "SSD                                      --                        --\n",
       "├─SSDFeatureExtractorVGG: 1              --                        --\n",
       "│    └─ModuleList: 2-1                   --                        --\n",
       "├─SSDHead: 1                             --                        --\n",
       "│    └─SSDClassificationHead: 2          --                        --\n",
       "│    │    └─ModuleList: 3-1              --                        12,163,242\n",
       "│    └─SSDRegressionHead: 2              --                        --\n",
       "│    │    └─ModuleList: 3-2              --                        534,648\n",
       "├─GeneralizedRCNNTransform: 1-1          --                        --\n",
       "├─SSDFeatureExtractorVGG: 1-2            [1, 256, 1, 1]            --\n",
       "│    └─Sequential: 2-2                   [1, 512, 38, 38]          --\n",
       "│    │    └─Conv2d: 3-3                  [1, 64, 300, 300]         (1,792)\n",
       "│    │    └─ReLU: 3-4                    [1, 64, 300, 300]         --\n",
       "│    │    └─Conv2d: 3-5                  [1, 64, 300, 300]         (36,928)\n",
       "│    │    └─ReLU: 3-6                    [1, 64, 300, 300]         --\n",
       "│    │    └─MaxPool2d: 3-7               [1, 64, 150, 150]         --\n",
       "│    │    └─Conv2d: 3-8                  [1, 128, 150, 150]        73,856\n",
       "│    │    └─ReLU: 3-9                    [1, 128, 150, 150]        --\n",
       "│    │    └─Conv2d: 3-10                 [1, 128, 150, 150]        147,584\n",
       "│    │    └─ReLU: 3-11                   [1, 128, 150, 150]        --\n",
       "│    │    └─MaxPool2d: 3-12              [1, 128, 75, 75]          --\n",
       "│    │    └─Conv2d: 3-13                 [1, 256, 75, 75]          295,168\n",
       "│    │    └─ReLU: 3-14                   [1, 256, 75, 75]          --\n",
       "│    │    └─Conv2d: 3-15                 [1, 256, 75, 75]          590,080\n",
       "│    │    └─ReLU: 3-16                   [1, 256, 75, 75]          --\n",
       "│    │    └─Conv2d: 3-17                 [1, 256, 75, 75]          590,080\n",
       "│    │    └─ReLU: 3-18                   [1, 256, 75, 75]          --\n",
       "│    │    └─MaxPool2d: 3-19              [1, 256, 38, 38]          --\n",
       "│    │    └─Conv2d: 3-20                 [1, 512, 38, 38]          1,180,160\n",
       "│    │    └─ReLU: 3-21                   [1, 512, 38, 38]          --\n",
       "│    │    └─Conv2d: 3-22                 [1, 512, 38, 38]          2,359,808\n",
       "│    │    └─ReLU: 3-23                   [1, 512, 38, 38]          --\n",
       "│    │    └─Conv2d: 3-24                 [1, 512, 38, 38]          2,359,808\n",
       "│    │    └─ReLU: 3-25                   [1, 512, 38, 38]          --\n",
       "│    └─ModuleList: 2-1                   --                        --\n",
       "│    │    └─Sequential: 3-26             [1, 1024, 19, 19]         12,848,640\n",
       "│    │    └─Sequential: 3-27             [1, 512, 10, 10]          1,442,560\n",
       "│    │    └─Sequential: 3-28             [1, 256, 5, 5]            360,832\n",
       "│    │    └─Sequential: 3-29             [1, 256, 3, 3]            328,064\n",
       "│    │    └─Sequential: 3-30             [1, 256, 1, 1]            328,064\n",
       "├─SSDHead: 1-3                           [1, 8732, 91]             --\n",
       "│    └─SSDRegressionHead: 2-3            [1, 8732, 4]              --\n",
       "│    └─SSDClassificationHead: 2-4        [1, 8732, 91]             --\n",
       "├─DefaultBoxGenerator: 1-4               [8732, 4]                 --\n",
       "==========================================================================================\n",
       "Total params: 35,641,314\n",
       "Trainable params: 35,602,594\n",
       "Non-trainable params: 38,720\n",
       "Total mult-adds (G): 34.88\n",
       "==========================================================================================\n",
       "Input size (MB): 1.08\n",
       "Forward/backward pass size (MB): 208.89\n",
       "Params size (MB): 142.57\n",
       "Estimated Total Size (MB): 352.53\n",
       "=========================================================================================="
      ]
     },
     "execution_count": 5,
     "metadata": {},
     "output_type": "execute_result"
    }
   ],
   "source": [
    "ssd300 = torchvision.models.detection.ssd300_vgg16(pretrained=True, progress=True, num_classes=91, pretrained_backbone=True)\n",
    "print(\"Based on VGG-16 SSD-300\")\n",
    "summary(ssd300, (1, 3, 300, 300))"
   ]
  },
  {
   "cell_type": "code",
   "execution_count": 6,
   "id": "415cb1cd",
   "metadata": {},
   "outputs": [
    {
     "name": "stdout",
     "output_type": "stream",
     "text": [
      "torch.Size([1, 512, 38, 38])\n",
      "torch.Size([1, 1024, 19, 19])\n"
     ]
    }
   ],
   "source": [
    "# Implementing own-SSD: input features\n",
    "\n",
    "vgg_conv4_3_feature_out = torch.randn(1, 512, 38, 38)\n",
    "vgg_conv5_3_feature_out = torch.randn(1, 1024, 19, 19)\n",
    "\n",
    "# two features had different shape (5_3 is after MaxPool2d)\n",
    "print(vgg_conv4_3_feature_out.shape)\n",
    "print(vgg_conv5_3_feature_out.shape)"
   ]
  },
  {
   "cell_type": "code",
   "execution_count": 7,
   "id": "73794ac9",
   "metadata": {},
   "outputs": [
    {
     "name": "stdout",
     "output_type": "stream",
     "text": [
      "Detection 1:\n",
      "+ Feature size:  torch.Size([19, 19]) Detected bboxes (grouped by xywhc): 4\n",
      "Detection 2:\n",
      "+ Feature size:  torch.Size([19, 19]) Detected bboxes (grouped by xywhc): 6\n",
      "Detection 3:\n",
      "+ Feature size:  torch.Size([10, 10]) Detected bboxes (grouped by xywhc): 6\n",
      "Detection 4:\n",
      "+ Feature size:  torch.Size([5, 5]) Detected bboxes (grouped by xywhc): 6\n",
      "Detection 5:\n",
      "+ Feature size:  torch.Size([3, 3]) Detected bboxes (grouped by xywhc): 4\n",
      "Detection 6:\n",
      "+ Feature size:  torch.Size([1, 1]) Detected bboxes (grouped by xywhc): 4\n"
     ]
    }
   ],
   "source": [
    "# Implementing own-SSD: body\n",
    "\n",
    "from torch import nn\n",
    "\n",
    "\n",
    "class SSDObjectDetector(nn.Module):\n",
    "    def __init__(self, num_classes):\n",
    "        super().__init__()\n",
    "        \n",
    "        self.num_classes = num_classes\n",
    "        \n",
    "        self.detector0 = nn.Sequential(\n",
    "            nn.Conv2d(1024, 1024, kernel_size=(3, 3), padding=3//2),\n",
    "            nn.ReLU(inplace=True)\n",
    "        )\n",
    "        self.detector1 = nn.Sequential(\n",
    "            nn.Conv2d(1024, 1024, kernel_size=(1, 1)),\n",
    "            nn.ReLU(inplace=True)\n",
    "        )\n",
    "        self.detector2 = nn.Sequential(\n",
    "            nn.Conv2d(1024, 256, kernel_size=(1, 1)),\n",
    "            nn.ReLU(inplace=True),\n",
    "            nn.Conv2d(256, 512, kernel_size=(3, 3), stride=2, padding=3//2),\n",
    "            nn.ReLU(inplace=True)\n",
    "        )\n",
    "        self.detector3 = nn.Sequential(\n",
    "            nn.Conv2d(512, 128, kernel_size=(1, 1)),\n",
    "            nn.ReLU(inplace=True),\n",
    "            nn.Conv2d(128, 256, kernel_size=(3, 3), stride=2, padding=3//2),\n",
    "            nn.ReLU(inplace=True)\n",
    "        )\n",
    "        self.detector4 = nn.Sequential(\n",
    "            nn.Conv2d(256, 128, kernel_size=(1, 1)),\n",
    "            nn.ReLU(inplace=True),\n",
    "            nn.Conv2d(128, 256, kernel_size=(3, 3)),\n",
    "            nn.ReLU(inplace=True)\n",
    "        )\n",
    "        self.detector5 = nn.Sequential(\n",
    "            nn.Conv2d(256, 128, kernel_size=(1, 1)),\n",
    "            nn.ReLU(inplace=True),\n",
    "            nn.Conv2d(128, 256, kernel_size=(3, 3)),\n",
    "            nn.ReLU(inplace=True)\n",
    "        )\n",
    "        \n",
    "        self.detectors = [\n",
    "            self.detector0,\n",
    "            self.detector1,\n",
    "            self.detector2,\n",
    "            self.detector3,\n",
    "            self.detector4,\n",
    "            self.detector5\n",
    "        ]\n",
    "        \n",
    "        self.classifier0 = nn.Sequential(\n",
    "            nn.Conv2d(1024, (4 * (self.num_classes + 4)), kernel_size=(3, 3), padding=3//2)\n",
    "        )\n",
    "        self.classifier1 = nn.Sequential(\n",
    "            nn.Conv2d(1024, (6 * (self.num_classes + 4)), kernel_size=(3, 3), padding=3//2)\n",
    "        )\n",
    "        self.classifier2 = nn.Sequential(\n",
    "            nn.Conv2d(512, (6 * (self.num_classes + 4)), kernel_size=(3, 3), padding=3//2)\n",
    "        )\n",
    "        self.classifier3 = nn.Sequential(\n",
    "            nn.Conv2d(256, (6 * (self.num_classes + 4)), kernel_size=(3, 3), padding=3//2)\n",
    "        )\n",
    "        self.classifier4 = nn.Sequential(\n",
    "            nn.Conv2d(256, (4 * (self.num_classes + 4)), kernel_size=(3, 3), padding=3//2)\n",
    "        )\n",
    "        self.classifier5 = nn.Sequential(\n",
    "            nn.Conv2d(256, (4 * (self.num_classes + 4)), kernel_size=(3, 3), padding=3//2)\n",
    "        )\n",
    "        \n",
    "        self.classifiers = [\n",
    "            self.classifier0,\n",
    "            self.classifier1,\n",
    "            self.classifier2,\n",
    "            self.classifier3,\n",
    "            self.classifier4,\n",
    "            self.classifier5\n",
    "        ]\n",
    "        \n",
    "    def forward(self, x):\n",
    "        \n",
    "        detections = []\n",
    "        classifier_id = {\n",
    "            # detector_id: target_classifier_id\n",
    "            0: 0,\n",
    "            1: None,\n",
    "            2: 1,\n",
    "            3: 2,\n",
    "            4: 3,\n",
    "            5: 4,\n",
    "            6: 5\n",
    "        }\n",
    "        \n",
    "        # Final layer classification must be manually inferred\n",
    "        for i, detector in enumerate(self.detectors):\n",
    "            cid = classifier_id[i]\n",
    "            if cid is not None:\n",
    "                classifier = self.classifiers[cid]\n",
    "                result = classifier(x)\n",
    "                detections.append(result)\n",
    "                \n",
    "            x = detector(x)\n",
    "            \n",
    "        classifier = self.classifiers[classifier_id[6]]\n",
    "        result = classifier(x)\n",
    "        detections.append(result)\n",
    "        \n",
    "        return detections\n",
    "        \n",
    "detector = SSDObjectDetector(num_classes = 3)\n",
    "# print(detector.forward(vgg_conv4_3_feature_out, vgg_conv5_3_feature_out))\n",
    "# print(detector.forward(vgg_conv4_3_feature_out, vgg_conv5_3_feature_out).shape)\n",
    "summary(detector, (1, 1024, 19, 19))\n",
    "\n",
    "detector.to(torch.device('cpu'))\n",
    "detections = detector(torch.randn(1, 1024, 19, 19))\n",
    "\n",
    "for i, item in enumerate(detections):\n",
    "    print(\"Detection %d:\" % (i + 1))\n",
    "    print(\"+ Feature size: \", item.shape[2:], \"Detected bboxes (grouped by xywhc):\", item.shape[1] // (4 + 3))\n",
    "    "
   ]
  },
  {
   "cell_type": "markdown",
   "id": "4ac5d5f4",
   "metadata": {},
   "source": [
    "# 정리\n",
    "- 7/27 - 구현을 하였으나 이 마지막에서 어떻게 해야할지 감이 안잡혀서 다시 기존 GitHub 구현체로 돌아간다.\n",
    "- 7/28 - 다시한번 default bbox와 Loss 부분에 대해서 공부를 시작해 보기로 했다 (OneNote 참조)"
   ]
  }
 ],
 "metadata": {
  "kernelspec": {
   "display_name": "Python 3",
   "language": "python",
   "name": "python3"
  },
  "language_info": {
   "codemirror_mode": {
    "name": "ipython",
    "version": 3
   },
   "file_extension": ".py",
   "mimetype": "text/x-python",
   "name": "python",
   "nbconvert_exporter": "python",
   "pygments_lexer": "ipython3",
   "version": "3.7.10"
  }
 },
 "nbformat": 4,
 "nbformat_minor": 5
}
